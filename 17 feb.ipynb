{
 "cells": [
  {
   "cell_type": "code",
   "execution_count": null,
   "id": "dad842fd-4402-43e0-8b82-bfcdcfbc9da9",
   "metadata": {},
   "outputs": [],
   "source": [
    "#q4"
   ]
  },
  {
   "cell_type": "code",
   "execution_count": null,
   "id": "8e5e34ef-1257-4e76-945f-0083864830ce",
   "metadata": {},
   "outputs": [],
   "source": [
    "import pymongo\n",
    "\n",
    "# establish a connection to the database\n",
    "client = pymongo.MongoClient('mongodb://localhost:27017/')\n",
    "\n",
    "# select the database and collection\n",
    "db = client['mydatabase']\n",
    "collection = db['mycollection']\n",
    "\n",
    "# insert one record\n",
    "record = {'name': 'John', 'age': 30, 'city': 'New York'}\n",
    "result = collection.insert_one(record)\n",
    "print('Inserted record ID:', result.inserted_id)\n",
    "\n",
    "# insert many records\n",
    "records = [\n",
    "    {'name': 'Alice', 'age': 25, 'city': 'Paris'},\n",
    "    {'name': 'Bob', 'age': 35, 'city': 'London'},\n",
    "    {'name': 'Charlie', 'age': 40, 'city': 'Tokyo'}\n",
    "]\n",
    "result = collection.insert_many(records)\n",
    "print('Inserted record IDs:', result.inserted_ids)\n",
    "\n",
    "# find one record\n",
    "result = collection.find_one({'name': 'John'})\n",
    "print('Found record:', result)\n",
    "\n",
    "# find all records\n",
    "results = collection.find()\n",
    "for result in results:\n",
    "    print(result)\n"
   ]
  },
  {
   "cell_type": "code",
   "execution_count": null,
   "id": "f761baad-f4f9-4dcd-b1f8-b1d8c821cfa2",
   "metadata": {},
   "outputs": [],
   "source": [
    "#q3"
   ]
  },
  {
   "cell_type": "code",
   "execution_count": null,
   "id": "f99a374b-6a77-405b-8440-8e64480b8646",
   "metadata": {},
   "outputs": [],
   "source": [
    "To connect MongoDB to Python, we need to install the PyMongo driver using pip.\n",
    "We can then use the MongoClient class from PyMongo to connect to a MongoDB server and create a database and a collection."
   ]
  },
  {
   "cell_type": "code",
   "execution_count": null,
   "id": "39bc332f-0a57-4890-a4cf-b441739c071b",
   "metadata": {},
   "outputs": [],
   "source": [
    "import pymongo\n",
    "\n",
    "# Connect to the MongoDB server\n",
    "client = pymongo.MongoClient(\"mongodb://localhost:27017/\")\n",
    "\n",
    "# Create a database named \"mydatabase\"\n",
    "db = client[\"mydatabase\"]\n",
    "\n",
    "# Create a collection named \"mycollection\"\n",
    "collection = db[\"mycollection\"]\n"
   ]
  },
  {
   "cell_type": "code",
   "execution_count": null,
   "id": "a3e2cda9-71a2-439a-8683-521a98b35904",
   "metadata": {},
   "outputs": [],
   "source": [
    "we're connecting to a MongoDB server running on localhost and the default port 27017. We're then creating a database named \"mydatabase\" using the client[\"mydatabase\"] syntax.\n",
    "Finally, we're creating a collection named \"mycollection\" in the \"mydatabase\" database using the db[\"mycollection\"] syntax."
   ]
  },
  {
   "cell_type": "code",
   "execution_count": null,
   "id": "30eeb87c-90be-4df2-9fa7-7c284557425f",
   "metadata": {},
   "outputs": [],
   "source": [
    "#q5"
   ]
  },
  {
   "cell_type": "code",
   "execution_count": null,
   "id": "46b47bcb-3b2a-404d-8067-b4dd45d92c03",
   "metadata": {},
   "outputs": [],
   "source": [
    "In MongoDB, the find() method is used to retrieve documents from a collection. It can be used to query a database based on specific criteria."
   ]
  },
  {
   "cell_type": "code",
   "execution_count": null,
   "id": "5d85b4b5-64fc-4108-9457-f75984b7da38",
   "metadata": {},
   "outputs": [],
   "source": [
    "import pymongo\n",
    "\n",
    "# Establish a connection to the MongoDB server\n",
    "client = pymongo.MongoClient(\"mongodb://localhost:27017/\")\n",
    "\n",
    "# Create a database and a collection\n",
    "db = client[\"mydatabase\"]\n",
    "col = db[\"customers\"]\n",
    "\n",
    "# Insert some data into the collection\n",
    "data = [\n",
    "  {\"name\": \"John\", \"age\": 25, \"country\": \"USA\"},\n",
    "  {\"name\": \"Mary\", \"age\": 30, \"country\": \"Canada\"},\n",
    "  {\"name\": \"Peter\", \"age\": 35, \"country\": \"UK\"}\n",
    "]\n",
    "col.insert_many(data)\n",
    "\n",
    "# Query the collection using the find() method\n",
    "query = {\"country\": \"USA\"}\n",
    "results = col.find(query)\n",
    "\n",
    "# Print the results\n",
    "for r in results:\n",
    "    print(r)\n"
   ]
  },
  {
   "cell_type": "code",
   "execution_count": null,
   "id": "95665f81-55c3-47c1-afb9-4e979702b636",
   "metadata": {},
   "outputs": [],
   "source": [
    "We then use the find() method to query the collection for documents that have a \"country\" field with a value of \"USA\".\n",
    "The results of the query are stored in the results variable, and we loop through the results and print each document."
   ]
  },
  {
   "cell_type": "code",
   "execution_count": null,
   "id": "90659b83-91e4-47c9-ad5c-310858b32a60",
   "metadata": {},
   "outputs": [],
   "source": [
    "#q6"
   ]
  },
  {
   "cell_type": "code",
   "execution_count": null,
   "id": "dedec257-7191-47d4-b2f4-c542d28983c4",
   "metadata": {},
   "outputs": [],
   "source": [
    "In MongoDB, the sort() method is used to sort the results of a query in ascending or descending order based on one or more fields. It takes an object as an argument, where each key represents the field to be sorted and its value specifies the sorting order (1 for ascending and -1 for descending)."
   ]
  },
  {
   "cell_type": "code",
   "execution_count": null,
   "id": "4a696912-7d44-44d5-ac50-5567eb68e913",
   "metadata": {},
   "outputs": [],
   "source": [
    "# Import the required libraries\n",
    "from pymongo import MongoClient\n",
    "\n",
    "# Connect to MongoDB\n",
    "client = MongoClient('mongodb://localhost:27017/')\n",
    "\n",
    "# Access the database and collection\n",
    "db = client['mydatabase']\n",
    "col = db['students']\n",
    "\n",
    "# Query the collection and sort by score in descending order\n",
    "results = col.find().sort(\"score\", -1)\n",
    "\n",
    "# Print the sorted documents\n",
    "for doc in results:\n",
    "    print(doc)\n"
   ]
  },
  {
   "cell_type": "code",
   "execution_count": null,
   "id": "f55d6045-19c6-47e0-8423-65f467e39c3c",
   "metadata": {},
   "outputs": [],
   "source": [
    "#q7"
   ]
  },
  {
   "cell_type": "code",
   "execution_count": null,
   "id": "0a73ecc1-d1da-4021-80a5-80ca6b1e5239",
   "metadata": {},
   "outputs": [],
   "source": [
    "In MongoDB, there are different methods to remove documents or collections from a database:\n",
    "\n",
    "1. `delete_one()`: This method is used to delete a single document that matches a specified filter. If multiple documents match the filter, only the first document that matches will be deleted.\n",
    "\n",
    "2. `delete_many()`: This method is used to delete all documents that match a specified filter. This method is useful when you need to delete multiple documents at once.\n",
    "\n",
    "3. `drop()`: This method is used to remove a collection from the database. This will remove all the documents and indexes associated with the collection.\n",
    "\n",
    "These methods are useful to manage data in the database. You can use them to remove unwanted data or collections, or to clean up data that is no longer needed. For example, you may use `delete_many()` to delete all documents that are older than a certain date, or use `drop()` to remove a collection that is no longer needed."
   ]
  },
  {
   "cell_type": "code",
   "execution_count": null,
   "id": "505744a9-85f9-40cc-ab21-60ad5c45d2a5",
   "metadata": {},
   "outputs": [],
   "source": [
    "#q2"
   ]
  },
  {
   "cell_type": "code",
   "execution_count": null,
   "id": "bf32b1a5-59c6-4287-b9f5-0f3f194048ba",
   "metadata": {},
   "outputs": [],
   "source": [
    "MongoDB is a popular NoSQL database management system that is designed to handle unstructured and semi-structured data. It has several features that make it a popular choice for many organizations. Some of these features include:\n",
    "\n",
    "1. Schemaless: MongoDB is a schemaless database, which means that it doesn't have a rigid structure. It allows users to store data in a flexible manner, without having to define a schema upfront.\n",
    "\n",
    "2. High Performance: MongoDB is known for its high performance, as it can handle large volumes of data and process queries quickly. It is designed to work well with big data and can scale horizontally across multiple servers.\n",
    "\n",
    "3. Indexing: MongoDB supports several types of indexes, including single field, compound, and multi-key indexes. This allows users to optimize query performance and improve the speed of data retrieval.\n",
    "\n",
    "4. Replication and Sharding: MongoDB provides support for replication and sharding, which helps to ensure high availability and scalability of the database. Replication allows users to create multiple copies of the database across different servers, while sharding allows the database to be split across multiple servers.\n",
    "\n",
    "5. Aggregation Framework: MongoDB provides a powerful aggregation framework that allows users to perform complex data analysis and aggregation operations on the data stored in the database.\n",
    "\n",
    "6. JSON-based Query Language: MongoDB uses a JSON-based query language that is easy to learn and use. This makes it easy for developers to query the database and retrieve data in a format that is familiar and easy to work with.\n",
    "\n",
    "7. Flexibility: MongoDB is a flexible database that can handle a wide range of data types, including structured, semi-structured, and unstructured data. This makes it ideal for use in applications that require a flexible data model.\n",
    "\n",
    "Overall, MongoDB is a powerful and flexible database that is well-suited for use in a wide range of applications. Its support for high availability, scalability, and flexible data modeling makes it a popular choice for many organizations."
   ]
  },
  {
   "cell_type": "code",
   "execution_count": null,
   "id": "3c4d8586-8e1a-442b-8f9a-af98a2587b7b",
   "metadata": {},
   "outputs": [],
   "source": [
    "#q1"
   ]
  },
  {
   "cell_type": "code",
   "execution_count": null,
   "id": "a4928cb7-63bc-483e-914a-4929aa49639e",
   "metadata": {},
   "outputs": [],
   "source": [
    "MongoDB is a document-oriented NoSQL database that uses a JSON-like structure for data storage. It is designed to be scalable, flexible, and high-performance, making it a popular choice for modern web and mobile applications.\n",
    "\n",
    "Non-relational databases, also known as NoSQL databases, are databases that do not use a traditional table-based structure to store data. Instead, they use various data models such as document, key-value, column-family, and graph-based models to store and retrieve data. Non-relational databases are generally more flexible, scalable, and can handle large volumes of unstructured or semi-structured data more efficiently than relational databases.\n",
    "\n",
    "MongoDB is preferred over SQL databases in the following scenarios:\n",
    "\n",
    "1. Unstructured Data: If your data is unstructured or semi-structured, MongoDB is a better choice as it supports dynamic schemas, making it more flexible than SQL databases.\n",
    "\n",
    "2. Scalability: MongoDB's sharding feature makes it easy to scale horizontally by distributing data across multiple servers, which can handle large volumes of data and high traffic.\n",
    "\n",
    "3. Performance: MongoDB's document-oriented structure allows for faster read/write operations compared to SQL databases.\n",
    "\n",
    "4. Agile development: MongoDB's flexible schema and ability to handle changing requirements make it an ideal choice for agile development environments."
   ]
  },
  {
   "cell_type": "code",
   "execution_count": null,
   "id": "701fa5f6-d646-45c9-a503-f23266b1cfb7",
   "metadata": {},
   "outputs": [],
   "source": []
  },
  {
   "cell_type": "code",
   "execution_count": null,
   "id": "f9495279-c207-4e08-8f55-d5e0b613effb",
   "metadata": {},
   "outputs": [],
   "source": []
  }
 ],
 "metadata": {
  "kernelspec": {
   "display_name": "Python 3 (ipykernel)",
   "language": "python",
   "name": "python3"
  },
  "language_info": {
   "codemirror_mode": {
    "name": "ipython",
    "version": 3
   },
   "file_extension": ".py",
   "mimetype": "text/x-python",
   "name": "python",
   "nbconvert_exporter": "python",
   "pygments_lexer": "ipython3",
   "version": "3.10.6"
  }
 },
 "nbformat": 4,
 "nbformat_minor": 5
}
